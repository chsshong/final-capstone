{
 "cells": [
  {
   "cell_type": "code",
   "execution_count": 17,
   "id": "76b688b8",
   "metadata": {},
   "outputs": [],
   "source": [
    "%matplotlib inline\n",
    "import numpy as np\n",
    "import pandas as pd\n",
    "from matplotlib import pyplot as plt\n",
    "import seaborn as sns\n",
    "import scipy.stats as stats\n",
    "from statsmodels.stats.weightstats import ztest as ztest\n",
    "pd.set_option('display.max_columns', None)"
   ]
  },
  {
   "cell_type": "code",
   "execution_count": 18,
   "id": "b6e97eae",
   "metadata": {},
   "outputs": [],
   "source": [
    "df = pd.read_csv('../data/2001-2019-State-Data-Method.csv')"
   ]
  },
  {
   "cell_type": "code",
   "execution_count": 19,
   "id": "095ee3f6",
   "metadata": {},
   "outputs": [
    {
     "data": {
      "text/html": [
       "<div>\n",
       "<style scoped>\n",
       "    .dataframe tbody tr th:only-of-type {\n",
       "        vertical-align: middle;\n",
       "    }\n",
       "\n",
       "    .dataframe tbody tr th {\n",
       "        vertical-align: top;\n",
       "    }\n",
       "\n",
       "    .dataframe thead th {\n",
       "        text-align: right;\n",
       "    }\n",
       "</style>\n",
       "<table border=\"1\" class=\"dataframe\">\n",
       "  <thead>\n",
       "    <tr style=\"text-align: right;\">\n",
       "      <th></th>\n",
       "      <th>Year</th>\n",
       "      <th>Geographic\\nRegion</th>\n",
       "      <th>State of Death</th>\n",
       "      <th>Group Method</th>\n",
       "      <th>Method</th>\n",
       "      <th>Suicides</th>\n",
       "      <th>Group\\nPercentage</th>\n",
       "    </tr>\n",
       "  </thead>\n",
       "  <tbody>\n",
       "    <tr>\n",
       "      <th>0</th>\n",
       "      <td>2001</td>\n",
       "      <td>Northeast</td>\n",
       "      <td>All</td>\n",
       "      <td>Veteran Method</td>\n",
       "      <td>Firearms</td>\n",
       "      <td>430</td>\n",
       "      <td>56.4</td>\n",
       "    </tr>\n",
       "    <tr>\n",
       "      <th>1</th>\n",
       "      <td>2001</td>\n",
       "      <td>Northeast</td>\n",
       "      <td>Connecticut</td>\n",
       "      <td>Veteran Method</td>\n",
       "      <td>Firearms</td>\n",
       "      <td>27</td>\n",
       "      <td>60.0</td>\n",
       "    </tr>\n",
       "    <tr>\n",
       "      <th>2</th>\n",
       "      <td>2001</td>\n",
       "      <td>Northeast</td>\n",
       "      <td>Maine</td>\n",
       "      <td>Veteran Method</td>\n",
       "      <td>Firearms</td>\n",
       "      <td>21</td>\n",
       "      <td>55.3</td>\n",
       "    </tr>\n",
       "    <tr>\n",
       "      <th>3</th>\n",
       "      <td>2001</td>\n",
       "      <td>Northeast</td>\n",
       "      <td>Massachusetts</td>\n",
       "      <td>Veteran Method</td>\n",
       "      <td>Firearms</td>\n",
       "      <td>39</td>\n",
       "      <td>47.6</td>\n",
       "    </tr>\n",
       "    <tr>\n",
       "      <th>4</th>\n",
       "      <td>2001</td>\n",
       "      <td>Northeast</td>\n",
       "      <td>New Jersey</td>\n",
       "      <td>Veteran Method</td>\n",
       "      <td>Firearms</td>\n",
       "      <td>41</td>\n",
       "      <td>44.1</td>\n",
       "    </tr>\n",
       "    <tr>\n",
       "      <th>...</th>\n",
       "      <td>...</td>\n",
       "      <td>...</td>\n",
       "      <td>...</td>\n",
       "      <td>...</td>\n",
       "      <td>...</td>\n",
       "      <td>...</td>\n",
       "      <td>...</td>\n",
       "    </tr>\n",
       "    <tr>\n",
       "      <th>660</th>\n",
       "      <td>2007</td>\n",
       "      <td>Midwest</td>\n",
       "      <td>Missouri</td>\n",
       "      <td>General Population Method</td>\n",
       "      <td>Firearms</td>\n",
       "      <td>442</td>\n",
       "      <td>56.2</td>\n",
       "    </tr>\n",
       "    <tr>\n",
       "      <th>661</th>\n",
       "      <td>2007</td>\n",
       "      <td>Midwest</td>\n",
       "      <td>Nebraska</td>\n",
       "      <td>General Population Method</td>\n",
       "      <td>Firearms</td>\n",
       "      <td>84</td>\n",
       "      <td>49.7</td>\n",
       "    </tr>\n",
       "    <tr>\n",
       "      <th>662</th>\n",
       "      <td>2007</td>\n",
       "      <td>Midwest</td>\n",
       "      <td>North Dakota</td>\n",
       "      <td>General Population Method</td>\n",
       "      <td>Firearms</td>\n",
       "      <td>48</td>\n",
       "      <td>52.2</td>\n",
       "    </tr>\n",
       "    <tr>\n",
       "      <th>663</th>\n",
       "      <td>2007</td>\n",
       "      <td>Midwest</td>\n",
       "      <td>Ohio</td>\n",
       "      <td>General Population Method</td>\n",
       "      <td>Firearms</td>\n",
       "      <td>643</td>\n",
       "      <td>51.2</td>\n",
       "    </tr>\n",
       "    <tr>\n",
       "      <th>664</th>\n",
       "      <td>2007</td>\n",
       "      <td>Midwest</td>\n",
       "      <td>South Dakota</td>\n",
       "      <td>General Population Method</td>\n",
       "      <td>Firearms</td>\n",
       "      <td>41</td>\n",
       "      <td>42.7</td>\n",
       "    </tr>\n",
       "  </tbody>\n",
       "</table>\n",
       "<p>665 rows × 7 columns</p>\n",
       "</div>"
      ],
      "text/plain": [
       "     Year Geographic\\nRegion State of Death               Group Method  \\\n",
       "0    2001          Northeast            All             Veteran Method   \n",
       "1    2001          Northeast    Connecticut             Veteran Method   \n",
       "2    2001          Northeast          Maine             Veteran Method   \n",
       "3    2001          Northeast  Massachusetts             Veteran Method   \n",
       "4    2001          Northeast     New Jersey             Veteran Method   \n",
       "..    ...                ...            ...                        ...   \n",
       "660  2007            Midwest       Missouri  General Population Method   \n",
       "661  2007            Midwest       Nebraska  General Population Method   \n",
       "662  2007            Midwest   North Dakota  General Population Method   \n",
       "663  2007            Midwest           Ohio  General Population Method   \n",
       "664  2007            Midwest   South Dakota  General Population Method   \n",
       "\n",
       "       Method  Suicides  Group\\nPercentage  \n",
       "0    Firearms       430               56.4  \n",
       "1    Firearms        27               60.0  \n",
       "2    Firearms        21               55.3  \n",
       "3    Firearms        39               47.6  \n",
       "4    Firearms        41               44.1  \n",
       "..        ...       ...                ...  \n",
       "660  Firearms       442               56.2  \n",
       "661  Firearms        84               49.7  \n",
       "662  Firearms        48               52.2  \n",
       "663  Firearms       643               51.2  \n",
       "664  Firearms        41               42.7  \n",
       "\n",
       "[665 rows x 7 columns]"
      ]
     },
     "execution_count": 19,
     "metadata": {},
     "output_type": "execute_result"
    }
   ],
   "source": [
    "df.head(665)"
   ]
  },
  {
   "cell_type": "code",
   "execution_count": 20,
   "id": "1d3e6a9b",
   "metadata": {
    "scrolled": true
   },
   "outputs": [
    {
     "name": "stdout",
     "output_type": "stream",
     "text": [
      "<class 'pandas.core.frame.DataFrame'>\n",
      "RangeIndex: 1893 entries, 0 to 1892\n",
      "Data columns (total 7 columns):\n",
      " #   Column             Non-Null Count  Dtype  \n",
      "---  ------             --------------  -----  \n",
      " 0   Year               1893 non-null   int64  \n",
      " 1   Geographic\n",
      "Region  1893 non-null   object \n",
      " 2   State of Death     1893 non-null   object \n",
      " 3   Group Method       1893 non-null   object \n",
      " 4   Method             1893 non-null   object \n",
      " 5   Suicides           1893 non-null   int64  \n",
      " 6   Group\n",
      "Percentage   1893 non-null   float64\n",
      "dtypes: float64(1), int64(2), object(4)\n",
      "memory usage: 103.6+ KB\n"
     ]
    }
   ],
   "source": [
    "df.info()"
   ]
  },
  {
   "cell_type": "code",
   "execution_count": 21,
   "id": "86fa0ae0",
   "metadata": {},
   "outputs": [],
   "source": [
    "df_method = df[['Year','State of Death', 'Group Method', 'Method', 'Suicides']]"
   ]
  },
  {
   "cell_type": "code",
   "execution_count": 22,
   "id": "e0e1e8e2",
   "metadata": {},
   "outputs": [
    {
     "data": {
      "text/html": [
       "<div>\n",
       "<style scoped>\n",
       "    .dataframe tbody tr th:only-of-type {\n",
       "        vertical-align: middle;\n",
       "    }\n",
       "\n",
       "    .dataframe tbody tr th {\n",
       "        vertical-align: top;\n",
       "    }\n",
       "\n",
       "    .dataframe thead th {\n",
       "        text-align: right;\n",
       "    }\n",
       "</style>\n",
       "<table border=\"1\" class=\"dataframe\">\n",
       "  <thead>\n",
       "    <tr style=\"text-align: right;\">\n",
       "      <th></th>\n",
       "      <th>Year</th>\n",
       "      <th>State of Death</th>\n",
       "      <th>Group Method</th>\n",
       "      <th>Method</th>\n",
       "      <th>Suicides</th>\n",
       "    </tr>\n",
       "  </thead>\n",
       "  <tbody>\n",
       "    <tr>\n",
       "      <th>0</th>\n",
       "      <td>2001</td>\n",
       "      <td>All</td>\n",
       "      <td>Veteran Method</td>\n",
       "      <td>Firearms</td>\n",
       "      <td>430</td>\n",
       "    </tr>\n",
       "    <tr>\n",
       "      <th>1</th>\n",
       "      <td>2001</td>\n",
       "      <td>Connecticut</td>\n",
       "      <td>Veteran Method</td>\n",
       "      <td>Firearms</td>\n",
       "      <td>27</td>\n",
       "    </tr>\n",
       "    <tr>\n",
       "      <th>2</th>\n",
       "      <td>2001</td>\n",
       "      <td>Maine</td>\n",
       "      <td>Veteran Method</td>\n",
       "      <td>Firearms</td>\n",
       "      <td>21</td>\n",
       "    </tr>\n",
       "    <tr>\n",
       "      <th>3</th>\n",
       "      <td>2001</td>\n",
       "      <td>Massachusetts</td>\n",
       "      <td>Veteran Method</td>\n",
       "      <td>Firearms</td>\n",
       "      <td>39</td>\n",
       "    </tr>\n",
       "    <tr>\n",
       "      <th>4</th>\n",
       "      <td>2001</td>\n",
       "      <td>New Jersey</td>\n",
       "      <td>Veteran Method</td>\n",
       "      <td>Firearms</td>\n",
       "      <td>41</td>\n",
       "    </tr>\n",
       "  </tbody>\n",
       "</table>\n",
       "</div>"
      ],
      "text/plain": [
       "   Year State of Death    Group Method    Method  Suicides\n",
       "0  2001            All  Veteran Method  Firearms       430\n",
       "1  2001    Connecticut  Veteran Method  Firearms        27\n",
       "2  2001          Maine  Veteran Method  Firearms        21\n",
       "3  2001  Massachusetts  Veteran Method  Firearms        39\n",
       "4  2001     New Jersey  Veteran Method  Firearms        41"
      ]
     },
     "execution_count": 22,
     "metadata": {},
     "output_type": "execute_result"
    }
   ],
   "source": [
    "df_method.head()"
   ]
  },
  {
   "cell_type": "code",
   "execution_count": 23,
   "id": "0076ef66",
   "metadata": {},
   "outputs": [],
   "source": [
    "df_2019 = df_method[df_method['Year'] == 2019]"
   ]
  },
  {
   "cell_type": "code",
   "execution_count": 24,
   "id": "21edbd4b",
   "metadata": {},
   "outputs": [],
   "source": [
    "df_2019 = df_2019[df_2019['State of Death'] == 'All']"
   ]
  },
  {
   "cell_type": "code",
   "execution_count": 25,
   "id": "a7969c89",
   "metadata": {},
   "outputs": [],
   "source": [
    "#df_2019 = df_2019[df_2019['Method'] == 'Firearms']"
   ]
  },
  {
   "cell_type": "code",
   "execution_count": 26,
   "id": "1426e418",
   "metadata": {},
   "outputs": [
    {
     "data": {
      "text/html": [
       "<div>\n",
       "<style scoped>\n",
       "    .dataframe tbody tr th:only-of-type {\n",
       "        vertical-align: middle;\n",
       "    }\n",
       "\n",
       "    .dataframe tbody tr th {\n",
       "        vertical-align: top;\n",
       "    }\n",
       "\n",
       "    .dataframe thead th {\n",
       "        text-align: right;\n",
       "    }\n",
       "</style>\n",
       "<table border=\"1\" class=\"dataframe\">\n",
       "  <thead>\n",
       "    <tr style=\"text-align: right;\">\n",
       "      <th></th>\n",
       "      <th>Year</th>\n",
       "      <th>State of Death</th>\n",
       "      <th>Group Method</th>\n",
       "      <th>Method</th>\n",
       "      <th>Suicides</th>\n",
       "    </tr>\n",
       "  </thead>\n",
       "  <tbody>\n",
       "    <tr>\n",
       "      <th>1792</th>\n",
       "      <td>2019</td>\n",
       "      <td>All</td>\n",
       "      <td>Veteran Method</td>\n",
       "      <td>Firearms</td>\n",
       "      <td>406</td>\n",
       "    </tr>\n",
       "    <tr>\n",
       "      <th>1799</th>\n",
       "      <td>2019</td>\n",
       "      <td>All</td>\n",
       "      <td>Veteran Method</td>\n",
       "      <td>Firearms</td>\n",
       "      <td>902</td>\n",
       "    </tr>\n",
       "    <tr>\n",
       "      <th>1810</th>\n",
       "      <td>2019</td>\n",
       "      <td>All</td>\n",
       "      <td>Veteran Method</td>\n",
       "      <td>Firearms</td>\n",
       "      <td>1939</td>\n",
       "    </tr>\n",
       "    <tr>\n",
       "      <th>1826</th>\n",
       "      <td>2019</td>\n",
       "      <td>All</td>\n",
       "      <td>Veteran Method</td>\n",
       "      <td>Firearms</td>\n",
       "      <td>1087</td>\n",
       "    </tr>\n",
       "    <tr>\n",
       "      <th>1838</th>\n",
       "      <td>2019</td>\n",
       "      <td>All</td>\n",
       "      <td>General Population Method</td>\n",
       "      <td>Firearms</td>\n",
       "      <td>2174</td>\n",
       "    </tr>\n",
       "    <tr>\n",
       "      <th>1848</th>\n",
       "      <td>2019</td>\n",
       "      <td>All</td>\n",
       "      <td>General Population Method</td>\n",
       "      <td>Firearms</td>\n",
       "      <td>4990</td>\n",
       "    </tr>\n",
       "    <tr>\n",
       "      <th>1861</th>\n",
       "      <td>2019</td>\n",
       "      <td>All</td>\n",
       "      <td>General Population Method</td>\n",
       "      <td>Firearms</td>\n",
       "      <td>10484</td>\n",
       "    </tr>\n",
       "    <tr>\n",
       "      <th>1879</th>\n",
       "      <td>2019</td>\n",
       "      <td>All</td>\n",
       "      <td>General Population Method</td>\n",
       "      <td>Firearms</td>\n",
       "      <td>5635</td>\n",
       "    </tr>\n",
       "  </tbody>\n",
       "</table>\n",
       "</div>"
      ],
      "text/plain": [
       "      Year State of Death               Group Method    Method  Suicides\n",
       "1792  2019            All             Veteran Method  Firearms       406\n",
       "1799  2019            All             Veteran Method  Firearms       902\n",
       "1810  2019            All             Veteran Method  Firearms      1939\n",
       "1826  2019            All             Veteran Method  Firearms      1087\n",
       "1838  2019            All  General Population Method  Firearms      2174\n",
       "1848  2019            All  General Population Method  Firearms      4990\n",
       "1861  2019            All  General Population Method  Firearms     10484\n",
       "1879  2019            All  General Population Method  Firearms      5635"
      ]
     },
     "execution_count": 26,
     "metadata": {},
     "output_type": "execute_result"
    }
   ],
   "source": [
    "df_2019.head(10)"
   ]
  },
  {
   "cell_type": "code",
   "execution_count": 27,
   "id": "22a0fe4c",
   "metadata": {},
   "outputs": [
    {
     "data": {
      "text/html": [
       "<div>\n",
       "<style scoped>\n",
       "    .dataframe tbody tr th:only-of-type {\n",
       "        vertical-align: middle;\n",
       "    }\n",
       "\n",
       "    .dataframe tbody tr th {\n",
       "        vertical-align: top;\n",
       "    }\n",
       "\n",
       "    .dataframe thead th {\n",
       "        text-align: right;\n",
       "    }\n",
       "</style>\n",
       "<table border=\"1\" class=\"dataframe\">\n",
       "  <thead>\n",
       "    <tr style=\"text-align: right;\">\n",
       "      <th></th>\n",
       "      <th>Year</th>\n",
       "      <th>Suicides</th>\n",
       "    </tr>\n",
       "    <tr>\n",
       "      <th>Group Method</th>\n",
       "      <th></th>\n",
       "      <th></th>\n",
       "    </tr>\n",
       "  </thead>\n",
       "  <tbody>\n",
       "    <tr>\n",
       "      <th>General Population Method</th>\n",
       "      <td>8076</td>\n",
       "      <td>23283</td>\n",
       "    </tr>\n",
       "    <tr>\n",
       "      <th>Veteran Method</th>\n",
       "      <td>8076</td>\n",
       "      <td>4334</td>\n",
       "    </tr>\n",
       "  </tbody>\n",
       "</table>\n",
       "</div>"
      ],
      "text/plain": [
       "                           Year  Suicides\n",
       "Group Method                             \n",
       "General Population Method  8076     23283\n",
       "Veteran Method             8076      4334"
      ]
     },
     "execution_count": 27,
     "metadata": {},
     "output_type": "execute_result"
    }
   ],
   "source": [
    "df_2019.groupby('Group Method').sum()"
   ]
  },
  {
   "cell_type": "markdown",
   "id": "17778fab",
   "metadata": {},
   "source": [
    "## Hypothesis Test 3\n",
    "### H0: Veteran Firearm suicide rate <= General Population Firearm suicide rate\n",
    "### Ha: Veteran Firearm suicide rate > General Population Firearm suicide rate"
   ]
  },
  {
   "cell_type": "markdown",
   "id": "c79b19b8",
   "metadata": {},
   "source": [
    "Testing with 2019 data"
   ]
  },
  {
   "cell_type": "code",
   "execution_count": 39,
   "id": "2542cfce",
   "metadata": {},
   "outputs": [],
   "source": [
    "shared_sample_freq = (4334 + 23283) / (6261+45861)\n",
    "shared_sample_variance = (6261+45861) * (shared_sample_freq * (1 - shared_sample_freq)) / (6261*45861)\n",
    "\n",
    "difference_in_proportions = stats.norm(0, np.sqrt(shared_sample_variance))"
   ]
  },
  {
   "cell_type": "code",
   "execution_count": 40,
   "id": "a07907fa",
   "metadata": {},
   "outputs": [
    {
     "data": {
      "text/plain": [
       "Text(0.5, 1.0, 'Distribution of Difference in Sample Frequencies Assuming $H_0$')"
      ]
     },
     "execution_count": 40,
     "metadata": {},
     "output_type": "execute_result"
    },
    {
     "data": {
      "image/png": "[encoded data removed]",
      "text/plain": [
       "<Figure size 1152x216 with 1 Axes>"
      ]
     },
     "metadata": {
      "needs_background": "light"
     },
     "output_type": "display_data"
    }
   ],
   "source": [
    "fig, ax = plt.subplots(1, figsize=(16, 3))\n",
    "\n",
    "x = np.linspace(-.05, .05, num=10000)\n",
    "ax.plot(x, difference_in_proportions.pdf(x), linewidth=3)\n",
    "ax.set_xlim(-.05, .05)\n",
    "ax.set_title(\"Distribution of Difference in Sample Frequencies Assuming $H_0$\")"
   ]
  },
  {
   "cell_type": "code",
   "execution_count": 41,
   "id": "bec2e1c3",
   "metadata": {},
   "outputs": [
    {
     "name": "stdout",
     "output_type": "stream",
     "text": [
      "0.18453542044669524\n"
     ]
    }
   ],
   "source": [
    "vet_sample_freq = 4334/6261\n",
    "pop_sample_freq = 23283/45861\n",
    "difference_in_sample_proportions = vet_sample_freq - pop_sample_freq\n",
    "print(difference_in_sample_proportions)"
   ]
  },
  {
   "cell_type": "code",
   "execution_count": 42,
   "id": "2a59f3e2",
   "metadata": {},
   "outputs": [
    {
     "name": "stdout",
     "output_type": "stream",
     "text": [
      "0.0\n"
     ]
    }
   ],
   "source": [
    "p_value = 1 - difference_in_proportions.cdf(difference_in_sample_proportions)\n",
    "print(p_value)"
   ]
  },
  {
   "cell_type": "code",
   "execution_count": 32,
   "id": "ee848731",
   "metadata": {},
   "outputs": [
    {
     "data": {
      "text/plain": [
       "Text(0.5, 1.0, 'p-value Reigon')"
      ]
     },
     "execution_count": 32,
     "metadata": {},
     "output_type": "execute_result"
    },
    {
     "data": {
      "image/png": "[encoded data removed]",
      "text/plain": [
       "<Figure size 1152x216 with 1 Axes>"
      ]
     },
     "metadata": {
      "needs_background": "light"
     },
     "output_type": "display_data"
    }
   ],
   "source": [
    "fig, ax = plt.subplots(1, figsize=(16, 3))\n",
    "\n",
    "x = np.linspace(-.05, .05, num=10000)\n",
    "ax.plot(x, difference_in_proportions.pdf(x), linewidth=3)\n",
    "ax.fill_between(x, difference_in_proportions.pdf(x), where=(x >= difference_in_sample_proportions),\n",
    "                color=\"red\", alpha=0.5)\n",
    "ax.set_xlim(-.05, .05)\n",
    "ax.set_title(\"p-value Reigon\")"
   ]
  },
  {
   "cell_type": "markdown",
   "id": "0de4009e",
   "metadata": {},
   "source": [
    "Testing with median year"
   ]
  },
  {
   "cell_type": "code",
   "execution_count": 35,
   "id": "9ed1e998",
   "metadata": {},
   "outputs": [],
   "source": [
    "df_2010 = df_method[df_method['Year'] == 2010]"
   ]
  },
  {
   "cell_type": "code",
   "execution_count": 36,
   "id": "6e841ee0",
   "metadata": {},
   "outputs": [],
   "source": [
    "df_2010 = df_2010[df_2010['State of Death'] == 'All']"
   ]
  },
  {
   "cell_type": "code",
   "execution_count": 37,
   "id": "682e9901",
   "metadata": {
    "scrolled": true
   },
   "outputs": [
    {
     "data": {
      "text/html": [
       "<div>\n",
       "<style scoped>\n",
       "    .dataframe tbody tr th:only-of-type {\n",
       "        vertical-align: middle;\n",
       "    }\n",
       "\n",
       "    .dataframe tbody tr th {\n",
       "        vertical-align: top;\n",
       "    }\n",
       "\n",
       "    .dataframe thead th {\n",
       "        text-align: right;\n",
       "    }\n",
       "</style>\n",
       "<table border=\"1\" class=\"dataframe\">\n",
       "  <thead>\n",
       "    <tr style=\"text-align: right;\">\n",
       "      <th></th>\n",
       "      <th>Year</th>\n",
       "      <th>State of Death</th>\n",
       "      <th>Group Method</th>\n",
       "      <th>Method</th>\n",
       "      <th>Suicides</th>\n",
       "    </tr>\n",
       "  </thead>\n",
       "  <tbody>\n",
       "    <tr>\n",
       "      <th>1792</th>\n",
       "      <td>2019</td>\n",
       "      <td>All</td>\n",
       "      <td>Veteran Method</td>\n",
       "      <td>Firearms</td>\n",
       "      <td>406</td>\n",
       "    </tr>\n",
       "    <tr>\n",
       "      <th>1799</th>\n",
       "      <td>2019</td>\n",
       "      <td>All</td>\n",
       "      <td>Veteran Method</td>\n",
       "      <td>Firearms</td>\n",
       "      <td>902</td>\n",
       "    </tr>\n",
       "    <tr>\n",
       "      <th>1810</th>\n",
       "      <td>2019</td>\n",
       "      <td>All</td>\n",
       "      <td>Veteran Method</td>\n",
       "      <td>Firearms</td>\n",
       "      <td>1939</td>\n",
       "    </tr>\n",
       "    <tr>\n",
       "      <th>1826</th>\n",
       "      <td>2019</td>\n",
       "      <td>All</td>\n",
       "      <td>Veteran Method</td>\n",
       "      <td>Firearms</td>\n",
       "      <td>1087</td>\n",
       "    </tr>\n",
       "    <tr>\n",
       "      <th>1838</th>\n",
       "      <td>2019</td>\n",
       "      <td>All</td>\n",
       "      <td>General Population Method</td>\n",
       "      <td>Firearms</td>\n",
       "      <td>2174</td>\n",
       "    </tr>\n",
       "    <tr>\n",
       "      <th>1848</th>\n",
       "      <td>2019</td>\n",
       "      <td>All</td>\n",
       "      <td>General Population Method</td>\n",
       "      <td>Firearms</td>\n",
       "      <td>4990</td>\n",
       "    </tr>\n",
       "    <tr>\n",
       "      <th>1861</th>\n",
       "      <td>2019</td>\n",
       "      <td>All</td>\n",
       "      <td>General Population Method</td>\n",
       "      <td>Firearms</td>\n",
       "      <td>10484</td>\n",
       "    </tr>\n",
       "    <tr>\n",
       "      <th>1879</th>\n",
       "      <td>2019</td>\n",
       "      <td>All</td>\n",
       "      <td>General Population Method</td>\n",
       "      <td>Firearms</td>\n",
       "      <td>5635</td>\n",
       "    </tr>\n",
       "  </tbody>\n",
       "</table>\n",
       "</div>"
      ],
      "text/plain": [
       "      Year State of Death               Group Method    Method  Suicides\n",
       "1792  2019            All             Veteran Method  Firearms       406\n",
       "1799  2019            All             Veteran Method  Firearms       902\n",
       "1810  2019            All             Veteran Method  Firearms      1939\n",
       "1826  2019            All             Veteran Method  Firearms      1087\n",
       "1838  2019            All  General Population Method  Firearms      2174\n",
       "1848  2019            All  General Population Method  Firearms      4990\n",
       "1861  2019            All  General Population Method  Firearms     10484\n",
       "1879  2019            All  General Population Method  Firearms      5635"
      ]
     },
     "execution_count": 37,
     "metadata": {},
     "output_type": "execute_result"
    }
   ],
   "source": [
    "df_2019.head(10)"
   ]
  },
  {
   "cell_type": "code",
   "execution_count": 38,
   "id": "11dd6f0a",
   "metadata": {},
   "outputs": [
    {
     "data": {
      "text/html": [
       "<div>\n",
       "<style scoped>\n",
       "    .dataframe tbody tr th:only-of-type {\n",
       "        vertical-align: middle;\n",
       "    }\n",
       "\n",
       "    .dataframe tbody tr th {\n",
       "        vertical-align: top;\n",
       "    }\n",
       "\n",
       "    .dataframe thead th {\n",
       "        text-align: right;\n",
       "    }\n",
       "</style>\n",
       "<table border=\"1\" class=\"dataframe\">\n",
       "  <thead>\n",
       "    <tr style=\"text-align: right;\">\n",
       "      <th></th>\n",
       "      <th>Year</th>\n",
       "      <th>Suicides</th>\n",
       "    </tr>\n",
       "    <tr>\n",
       "      <th>Group Method</th>\n",
       "      <th></th>\n",
       "      <th></th>\n",
       "    </tr>\n",
       "  </thead>\n",
       "  <tbody>\n",
       "    <tr>\n",
       "      <th>General Population Method</th>\n",
       "      <td>8040</td>\n",
       "      <td>19015</td>\n",
       "    </tr>\n",
       "    <tr>\n",
       "      <th>Veteran Method</th>\n",
       "      <td>8040</td>\n",
       "      <td>4408</td>\n",
       "    </tr>\n",
       "  </tbody>\n",
       "</table>\n",
       "</div>"
      ],
      "text/plain": [
       "                           Year  Suicides\n",
       "Group Method                             \n",
       "General Population Method  8040     19015\n",
       "Veteran Method             8040      4408"
      ]
     },
     "execution_count": 38,
     "metadata": {},
     "output_type": "execute_result"
    }
   ],
   "source": [
    "df_2010.groupby('Group Method').sum()"
   ]
  },
  {
   "cell_type": "code",
   "execution_count": null,
   "id": "e26ae291",
   "metadata": {},
   "outputs": [],
   "source": [
    "shared_sample_freq = (4408 + 19015) / (6535+)\n",
    "shared_sample_variance = 52122 * (shared_sample_freq * (1 - shared_sample_freq)) / (6261*45861)\n",
    "\n",
    "difference_in_proportions = stats.norm(0, np.sqrt(shared_sample_variance))"
   ]
  },
  {
   "cell_type": "code",
   "execution_count": null,
   "id": "d9f03966",
   "metadata": {},
   "outputs": [],
   "source": [
    "fig, ax = plt.subplots(1, figsize=(16, 3))\n",
    "\n",
    "x = np.linspace(-.05, .05, num=10000)\n",
    "ax.plot(x, difference_in_proportions.pdf(x), linewidth=3)\n",
    "ax.set_xlim(-.05, .05)\n",
    "ax.set_title(\"Distribution of Difference in Sample Frequencies Assuming $H_0$\")"
   ]
  },
  {
   "cell_type": "code",
   "execution_count": null,
   "id": "a21b38ab",
   "metadata": {},
   "outputs": [],
   "source": [
    "vet_sample_freq = 4334/6261\n",
    "pop_sample_freq = 23283/45861\n",
    "difference_in_sample_proportions = vet_sample_freq - pop_sample_freq\n",
    "print(difference_in_sample_proportions)"
   ]
  },
  {
   "cell_type": "code",
   "execution_count": null,
   "id": "21ca5c1b",
   "metadata": {},
   "outputs": [],
   "source": [
    "p_value = 1 - difference_in_proportions.cdf(difference_in_sample_proportions)\n",
    "print(p_value)"
   ]
  },
  {
   "cell_type": "code",
   "execution_count": null,
   "id": "8482b0e6",
   "metadata": {},
   "outputs": [],
   "source": [
    "fig, ax = plt.subplots(1, figsize=(16, 3))\n",
    "\n",
    "x = np.linspace(-.05, .05, num=10000)\n",
    "ax.plot(x, difference_in_proportions.pdf(x), linewidth=3)\n",
    "ax.fill_between(x, difference_in_proportions.pdf(x), where=(x >= difference_in_sample_proportions),\n",
    "                color=\"red\", alpha=0.5)\n",
    "ax.set_xlim(-.05, .05)\n",
    "ax.set_title(\"p-value Reigon\")"
   ]
  }
 ],
 "metadata": {
  "kernelspec": {
   "display_name": "Python 3 (ipykernel)",
   "language": "python",
   "name": "python3"
  },
  "language_info": {
   "codemirror_mode": {
    "name": "ipython",
    "version": 3
   },
   "file_extension": ".py",
   "mimetype": "text/x-python",
   "name": "python",
   "nbconvert_exporter": "python",
   "pygments_lexer": "ipython3",
   "version": "3.8.12"
  }
 },
 "nbformat": 4,
 "nbformat_minor": 5
}
